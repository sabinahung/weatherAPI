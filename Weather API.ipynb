{
 "cells": [
  {
   "cell_type": "code",
   "execution_count": 1,
   "id": "329229ea-a303-44bc-9743-0711a3e3e631",
   "metadata": {},
   "outputs": [],
   "source": [
    "import requests\n",
    "from dotenv import load_dotenv\n",
    "import os"
   ]
  },
  {
   "cell_type": "code",
   "execution_count": 2,
   "id": "2656e0cb-14d4-4836-a8e8-602a0205d9a4",
   "metadata": {},
   "outputs": [],
   "source": [
    "load_dotenv()\n",
    "API_KEY = os.getenv(\"API_KEY\")"
   ]
  },
  {
   "cell_type": "markdown",
   "id": "0616d3b7-67cc-4033-80f0-f4f41372e521",
   "metadata": {},
   "source": [
    "### 1. What is the URL to the documentation?\n",
    "\n",
    "https://www.weatherapi.com/docs/"
   ]
  },
  {
   "cell_type": "markdown",
   "id": "93a13db2-1350-4953-b667-8e7539ca04b9",
   "metadata": {},
   "source": [
    "### 2. Make a request for the current weather where you are born, or somewhere you've lived."
   ]
  },
  {
   "cell_type": "code",
   "execution_count": 7,
   "id": "74ad3fbb-f9b4-401c-9c39-6a0768fdffb4",
   "metadata": {},
   "outputs": [
    {
     "ename": "SyntaxError",
     "evalue": "invalid syntax (3605494567.py, line 1)",
     "output_type": "error",
     "traceback": [
      "\u001b[0;36m  Cell \u001b[0;32mIn[7], line 1\u001b[0;36m\u001b[0m\n\u001b[0;31m    http://api.weatherapi.com/v1/current.json?key={API_KEY}&q=Taipei&aqi=yes\u001b[0m\n\u001b[0m         ^\u001b[0m\n\u001b[0;31mSyntaxError\u001b[0m\u001b[0;31m:\u001b[0m invalid syntax\n"
     ]
    }
   ],
   "source": [
    "http://api.weatherapi.com/v1/current.json?key={API_KEY}&q=Taipei&aqi=yes"
   ]
  },
  {
   "cell_type": "markdown",
   "id": "a171d22f-f848-4cd7-a4c7-1734aea12ebc",
   "metadata": {},
   "source": [
    "### 3. Print out the country this location is in."
   ]
  },
  {
   "cell_type": "code",
   "execution_count": 8,
   "id": "aa104176-808c-46a8-8c22-a2e784265e6e",
   "metadata": {},
   "outputs": [
    {
     "data": {
      "text/plain": [
       "{'location': {'name': 'Taipei',\n",
       "  'region': \"T'ai-pei\",\n",
       "  'country': 'Taiwan',\n",
       "  'lat': 25.04,\n",
       "  'lon': 121.53,\n",
       "  'tz_id': 'Asia/Taipei',\n",
       "  'localtime_epoch': 1700017145,\n",
       "  'localtime': '2023-11-15 10:59'},\n",
       " 'current': {'last_updated_epoch': 1700016300,\n",
       "  'last_updated': '2023-11-15 10:45',\n",
       "  'temp_c': 23.0,\n",
       "  'temp_f': 73.4,\n",
       "  'is_day': 1,\n",
       "  'condition': {'text': 'Partly cloudy',\n",
       "   'icon': '//cdn.weatherapi.com/weather/64x64/day/116.png',\n",
       "   'code': 1003},\n",
       "  'wind_mph': 19.2,\n",
       "  'wind_kph': 31.0,\n",
       "  'wind_degree': 80,\n",
       "  'wind_dir': 'E',\n",
       "  'pressure_mb': 1024.0,\n",
       "  'pressure_in': 30.24,\n",
       "  'precip_mm': 0.08,\n",
       "  'precip_in': 0.0,\n",
       "  'humidity': 69,\n",
       "  'cloud': 75,\n",
       "  'feelslike_c': 25.2,\n",
       "  'feelslike_f': 77.3,\n",
       "  'vis_km': 10.0,\n",
       "  'vis_miles': 6.0,\n",
       "  'uv': 4.0,\n",
       "  'gust_mph': 11.3,\n",
       "  'gust_kph': 18.3,\n",
       "  'air_quality': {'co': 300.4,\n",
       "   'no2': 12.2,\n",
       "   'o3': 85.1,\n",
       "   'so2': 11.6,\n",
       "   'pm2_5': 3.2,\n",
       "   'pm10': 6.0,\n",
       "   'us-epa-index': 1,\n",
       "   'gb-defra-index': 1}}}"
      ]
     },
     "execution_count": 8,
     "metadata": {},
     "output_type": "execute_result"
    }
   ],
   "source": [
    "url = f\"http://api.weatherapi.com/v1/current.json?key={API_KEY}&q=Taipei&aqi=yes\"\n",
    "response = requests.get(url)\n",
    "taipei_data = response.json()\n",
    "taipei_data"
   ]
  },
  {
   "cell_type": "code",
   "execution_count": 6,
   "id": "f230957d-ab47-466a-9d56-2150c67aaf40",
   "metadata": {},
   "outputs": [
    {
     "data": {
      "text/plain": [
       "'Taiwan'"
      ]
     },
     "execution_count": 6,
     "metadata": {},
     "output_type": "execute_result"
    }
   ],
   "source": [
    "taipei_data['location']['country']"
   ]
  },
  {
   "cell_type": "markdown",
   "id": "4f7c9d26-66ca-4223-8557-6c7194178b4a",
   "metadata": {},
   "source": [
    "### 4. Print out the difference between the current temperature and how warm it feels. Use \"It feels ___ degrees colder\" or \"It feels ___ degrees warmer,\" not negative numbers."
   ]
  },
  {
   "cell_type": "code",
   "execution_count": 11,
   "id": "86d973c0-3a8d-4e2f-ae61-3d35c124b196",
   "metadata": {},
   "outputs": [
    {
     "name": "stdout",
     "output_type": "stream",
     "text": [
      "It feels like how it is supposed to feel\n"
     ]
    }
   ],
   "source": [
    "if taipei_data['current']['temp_c'] > taipei_data['current']['feelslike_c']:\n",
    "    print(f\"It feels {taipei_data['current']['temp_c'] - taipei_data['current']['feelslike_c']} celsius degrees colder\")\n",
    "elif taipei_data['current']['temp_c'] < taipei_data['current']['feelslike_c']:\n",
    "    print(f\"It feels {taipei_data['current']['feelslike_c'] - taipei_data['current']['temp_c']} celsius degrees warmer\")\n",
    "else:\n",
    "    print(f\"It feels like how it is supposed to feel\")"
   ]
  },
  {
   "cell_type": "markdown",
   "id": "fd543b4b-9fc7-4512-a80d-4ed34064e3a3",
   "metadata": {},
   "source": [
    "### 5. What's the current temperature at Heathrow International Airport? Use the airport's IATA code to search."
   ]
  },
  {
   "cell_type": "code",
   "execution_count": 39,
   "id": "d57f8175-eac7-4068-8b55-a8877937c5c7",
   "metadata": {},
   "outputs": [
    {
     "name": "stdout",
     "output_type": "stream",
     "text": [
      "10.0 degerees celsius = 50.0 degerees fahrenheit\n"
     ]
    }
   ],
   "source": [
    "url = f\"http://api.weatherapi.com/v1/current.json?key={API_KEY}&q=iata:LHR&aqi=yes\"\n",
    "response = requests.get(url)\n",
    "lhr_current_data = response.json()\n",
    "print(f\"{lhr_current_data['current']['temp_c']} degerees celsius = {lhr_current_data['current']['temp_f']} degerees fahrenheit\")"
   ]
  },
  {
   "cell_type": "markdown",
   "id": "8bb8f605-b946-4798-b3bb-33ce07e791a7",
   "metadata": {},
   "source": [
    "### 6. What URL would I use to request a 3-day forecast at Heathrow?\n",
    "\n",
    "http://api.weatherapi.com/v1/forecast.json?key=2c17b31f6bd64a3b8c7224449231411&q=iata:LHR&aqi=yes"
   ]
  },
  {
   "cell_type": "markdown",
   "id": "56def5a5-74c4-4fdf-908f-811202332ae4",
   "metadata": {},
   "source": [
    "### 7. Print the date of each of the 3 days you're getting a forecast for."
   ]
  },
  {
   "cell_type": "code",
   "execution_count": 5,
   "id": "2fa3b9ea-c9df-46c0-a61e-b064494b4eac",
   "metadata": {},
   "outputs": [],
   "source": [
    "url = f\"http://api.weatherapi.com/v1/forecast.json?key={API_KEY}&q=iata:LHR&days=3&aqi=yes\"\n",
    "response = requests.get(url)\n",
    "lhr_data = response.json()"
   ]
  },
  {
   "cell_type": "code",
   "execution_count": 6,
   "id": "24dac22b-4968-4e5b-a426-caf6a171b631",
   "metadata": {},
   "outputs": [
    {
     "data": {
      "text/plain": [
       "['2023-11-15', '2023-11-16', '2023-11-17']"
      ]
     },
     "execution_count": 6,
     "metadata": {},
     "output_type": "execute_result"
    }
   ],
   "source": [
    "dates = [dayforecast['date'] for dayforecast in lhr_data['forecast']['forecastday']]\n",
    "dates"
   ]
  },
  {
   "cell_type": "markdown",
   "id": "17530b02-7350-47d6-a1fe-472ea4eda982",
   "metadata": {},
   "source": [
    "### 8. Print the maximum temperature of each of the days."
   ]
  },
  {
   "cell_type": "code",
   "execution_count": 7,
   "id": "e419ae69-ad12-4258-badd-b3a09cc865d2",
   "metadata": {},
   "outputs": [
    {
     "name": "stdout",
     "output_type": "stream",
     "text": [
      "Max temperature on 2023-11-15 is 10.8.\n",
      "Max temperature on 2023-11-16 is 11.4.\n",
      "Max temperature on 2023-11-17 is 8.5.\n"
     ]
    }
   ],
   "source": [
    "# max_temp = [dayforecast['day']['maxtemp_c'] for dayforecast in lhr_data['forecast']['forecastday']]\n",
    "for dayforecast in lhr_data['forecast']['forecastday']:\n",
    "    print(f\"Max temperature on {dayforecast['date']} is {dayforecast['day']['maxtemp_c']}.\")"
   ]
  },
  {
   "cell_type": "markdown",
   "id": "f13b1bd7-5b9d-47f0-885f-a125feabeece",
   "metadata": {},
   "source": [
    "### 9. Print only the day with the highest maximum temperature."
   ]
  },
  {
   "cell_type": "code",
   "execution_count": 15,
   "id": "df49a71c-2c70-4240-a1e7-7d8435d74a0a",
   "metadata": {},
   "outputs": [
    {
     "name": "stdout",
     "output_type": "stream",
     "text": [
      "2023-11-16 has the highest maximum temperature of 11.4 in the three days.\n"
     ]
    }
   ],
   "source": [
    "max_temp = [dayforecast['day']['maxtemp_c'] for dayforecast in lhr_data['forecast']['forecastday']]\n",
    "for dayforecast in lhr_data['forecast']['forecastday']:\n",
    "    if dayforecast['day']['maxtemp_c'] == max(max_temp):\n",
    "        print(f\"{dayforecast['date']} has the highest maximum temperature of {dayforecast['day']['maxtemp_c']} in the three days.\")"
   ]
  }
 ],
 "metadata": {
  "kernelspec": {
   "display_name": "Python 3 (ipykernel)",
   "language": "python",
   "name": "python3"
  },
  "language_info": {
   "codemirror_mode": {
    "name": "ipython",
    "version": 3
   },
   "file_extension": ".py",
   "mimetype": "text/x-python",
   "name": "python",
   "nbconvert_exporter": "python",
   "pygments_lexer": "ipython3",
   "version": "3.11.6"
  }
 },
 "nbformat": 4,
 "nbformat_minor": 5
}
